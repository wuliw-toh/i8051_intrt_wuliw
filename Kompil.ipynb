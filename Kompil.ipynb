{
 "cells": [
  {
   "cell_type": "markdown",
   "metadata": {},
   "source": [
    "### Компилятор языка лень языка ЛЕНЬ \n",
    "#### Преднозначено для процессора i8051\n",
    "#### Работу выполнил студент группы ИКТ-3301 ВятГУ Киров 2020\n",
    "\n",
    "\n",
    "Для начала необходимая програма будет хранится в переменной текст_програм в дальнеёшем планирутся чтение её из файла. Возможно если пратотип на языке пайтон будет достаточно хорошим возьмусь за создание мини IDE для данных задачь. Вобщем время покажет wuliw 2020"
   ]
  },
  {
   "cell_type": "code",
   "execution_count": 110,
   "metadata": {},
   "outputs": [],
   "source": [
    "text_program = [\" I = 5000\",\"J = 1005\", \"K = I + J\"]\n",
    "\n",
    "#технические переменные компилятора\n",
    "work_spase = {\"marker_memory_real\" : 20, \"metka_flag_real\" : 0, \"regist_operator\" : 0}\n",
    "\n",
    "# словарь команд \n",
    "komand_spase = {\"=\" : 0}\n",
    "\n",
    "# словарь имён переменных. \n",
    "data_spase = {\"R0\": 0,\"R1\": 1,\"R2\": 2,\"R3\": 3,\"R4\": 4,\"R5\": 5,\"R6\": 6}\n",
    "# хранит адерс старшего байта (может стоит переставить на младший ОБДУМАТЬ)"
   ]
  },
  {
   "cell_type": "markdown",
   "metadata": {},
   "source": [
    "Думаю сразу стоит описывать собственные идеи дабы потом не запутаться. вокр_спейс это словарь для технических аргументов моего компилятора. Маркер_мемори_реал будет указывать на крайний адрес памяти. Тоесть это значение первого гарантированно чистого байта куда можно укладывать какие то значения. Метка_флаг_реал это ближайший свободный индекс. Когда программа будет использовать переходы то имя для флага будет создоваться именно на основе этого индекса. Регистр оператор это номер регистра процессора где будет расположен счтчик. Кстати вложенные цыклы язык судя по всему поддерживать не будет по крайней мере на ранних стадиях. \n",
    "\n",
    "\n",
    "### Проба пера.\n",
    "Пока оставим за бортом считывание из файла начнем с разбивки и выполнения хотя пока не ясно как    "
   ]
  },
  {
   "cell_type": "code",
   "execution_count": 111,
   "metadata": {},
   "outputs": [],
   "source": [
    "globol_apperator_index = 0;\n",
    "\n",
    "work_operator = text_program[globol_apperator_index].split();\n",
    "operator_real = \"\";\n",
    "\n",
    "for i in work_operator:\n",
    "    if i in komand_spase:\n",
    "        operator_real = i;\n",
    "        break;\n",
    "            \n",
    "#komand_spase[operator_real]"
   ]
  },
  {
   "cell_type": "markdown",
   "metadata": {},
   "source": [
    "Ну собственно что мы видим к нам пришла строка. Мы разбили её по пробелам и выяснили что в этой строке является оператором нашего языка а что вводимыми значениями. Далее мы будем этот индекс передовать в свичь. А уже свич распихает данные по реализованным функциям.\n",
    "\n",
    "\n",
    "### Функция присвоения данных  [ = ]"
   ]
  },
  {
   "cell_type": "code",
   "execution_count": 123,
   "metadata": {},
   "outputs": [],
   "source": [
    "def set_value(data_value):\n",
    "    if not(data_value[0] in data_spase):\n",
    "        # новое значение\n",
    "        data_spase[data_value[0]] = work_spase[\"marker_memory_real\"]\n",
    "        work_spase[\"marker_memory_real\"] += 2;\n",
    "    \n",
    "    #начинаем обработку нашего числа. \n",
    "    vrem_val = bin(int(data_value[2]))[2:]\n",
    "    vrem_val = ((16 - len(vrem_val))*\"0\") + vrem_val\n",
    "    \n",
    "    yuong_bit = vrem_val[-8:]\n",
    "    old_bit = vrem_val[:8]\n",
    "    \n",
    "    print(vrem_val)\n",
    "    print(old_bit,yuong_bit)\n",
    "\n",
    "    \n",
    "        \n",
    "       \n",
    "        \n",
    "        \n",
    "    \n",
    "    "
   ]
  },
  {
   "cell_type": "code",
   "execution_count": 124,
   "metadata": {},
   "outputs": [
    {
     "name": "stdout",
     "output_type": "stream",
     "text": [
      "0001001110001000\n",
      "00010011 10001000\n"
     ]
    },
    {
     "data": {
      "text/plain": [
       "{'R0': 0, 'R1': 1, 'R2': 2, 'R3': 3, 'R4': 4, 'R5': 5, 'R6': 6, 'I': 20}"
      ]
     },
     "execution_count": 124,
     "metadata": {},
     "output_type": "execute_result"
    }
   ],
   "source": [
    "set_value(work_operator)\n",
    "data_spase"
   ]
  },
  {
   "cell_type": "code",
   "execution_count": 91,
   "metadata": {},
   "outputs": [],
   "source": [
    "#work_spase[\"marker_memory_real\"]\n"
   ]
  },
  {
   "cell_type": "code",
   "execution_count": null,
   "metadata": {},
   "outputs": [],
   "source": []
  }
 ],
 "metadata": {
  "kernelspec": {
   "display_name": "Python 3",
   "language": "python",
   "name": "python3"
  },
  "language_info": {
   "codemirror_mode": {
    "name": "ipython",
    "version": 3
   },
   "file_extension": ".py",
   "mimetype": "text/x-python",
   "name": "python",
   "nbconvert_exporter": "python",
   "pygments_lexer": "ipython3",
   "version": "3.7.4"
  }
 },
 "nbformat": 4,
 "nbformat_minor": 2
}
