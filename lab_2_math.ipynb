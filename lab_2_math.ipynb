{
 "cells": [
  {
   "cell_type": "markdown",
   "metadata": {},
   "source": [
    "### Лабораторная работа №2\n",
    "### Команды передачи управления\n",
    "#### Вариант 3"
   ]
  },
  {
   "cell_type": "code",
   "execution_count": 13,
   "metadata": {},
   "outputs": [],
   "source": [
    "x = 0x6da9\n",
    "y = 0x11fa"
   ]
  },
  {
   "cell_type": "code",
   "execution_count": 14,
   "metadata": {},
   "outputs": [
    {
     "name": "stdout",
     "output_type": "stream",
     "text": [
      "Цикл for\n",
      "такт 0 значение L = 0x5baf\n",
      "такт 1 значение L = 0x49b5\n",
      "такт 2 значение L = 0x37bb\n",
      "такт 3 значение L = 0x25c1\n"
     ]
    }
   ],
   "source": [
    "l = x\n",
    "print(\"Цикл for\")\n",
    "for i in range(4): \n",
    "    l -= y\n",
    "    print(f\"такт {i} значение L = {hex(l)}\")\n"
   ]
  },
  {
   "cell_type": "code",
   "execution_count": 15,
   "metadata": {},
   "outputs": [
    {
     "name": "stdout",
     "output_type": "stream",
     "text": [
      "Итог xor 0x343b\n"
     ]
    }
   ],
   "source": [
    "m = l ^ y\n",
    "print(f\"Итог xor {hex(m)}\")"
   ]
  },
  {
   "cell_type": "code",
   "execution_count": 16,
   "metadata": {},
   "outputs": [
    {
     "name": "stdout",
     "output_type": "stream",
     "text": [
      "Итог первой операции if  0x40b\n"
     ]
    }
   ],
   "source": [
    "if m > 0: \n",
    "    r = m & 0xf0f\n",
    "else:\n",
    "    r = -m\n",
    "\n",
    "print(f\"Итог первой операции if  {hex(r)}\")"
   ]
  },
  {
   "cell_type": "code",
   "execution_count": 17,
   "metadata": {},
   "outputs": [
    {
     "name": "stdout",
     "output_type": "stream",
     "text": [
      "Итог второй операции if  0x45eb\n"
     ]
    }
   ],
   "source": [
    "if r == 0 :\n",
    "    r = 0x27e1 ^ l\n",
    "else:\n",
    "    r = r + 0x67a1 - l\n",
    "    \n",
    "print(f\"Итог второй операции if  {hex(r)}\")"
   ]
  },
  {
   "cell_type": "code",
   "execution_count": null,
   "metadata": {},
   "outputs": [],
   "source": []
  }
 ],
 "metadata": {
  "kernelspec": {
   "display_name": "Python 3",
   "language": "python",
   "name": "python3"
  },
  "language_info": {
   "codemirror_mode": {
    "name": "ipython",
    "version": 3
   },
   "file_extension": ".py",
   "mimetype": "text/x-python",
   "name": "python",
   "nbconvert_exporter": "python",
   "pygments_lexer": "ipython3",
   "version": "3.7.4"
  }
 },
 "nbformat": 4,
 "nbformat_minor": 2
}
