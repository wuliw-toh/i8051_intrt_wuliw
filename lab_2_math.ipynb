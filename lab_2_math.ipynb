{
 "cells": [
  {
   "cell_type": "markdown",
   "metadata": {},
   "source": [
    "### Лабараторная работа №2\n",
    "### Команды передачи управления\n",
    "#### Вариант 3\n",
    "\n",
    "\n",
    "**Дано**   \n",
    "X = 6DA9  \n",
    "Y = 11FA  \n",
    "**Программа на языке с++**   \n",
    "Это программа служит для чистой визуализации. Дабы чётко понимать чего нам нужно добится в нашей программе на асемблере.  \n",
    "\n",
    "int x = 0x6DA9;   \n",
    "int y = 0x11FA;   \n",
    "\n",
    "int l = x;  \n",
    "\n",
    "for(int i(4),i!=0,i--)l -=y;\n",
    "  \n",
    "int M = l^y;  \n",
    "int R = 0;  \n",
    "\n",
    "if(M > 0){  \n",
    "    R = M & 0x0f0f;\n",
    "}else{\n",
    "    R = -M;\n",
    "}\n",
    "\n",
    "if(M==0){  \n",
    "    R = 0x27E1 ^ L;  \n",
    "}else{  \n",
    "    R = R + 0x67A1 - L  \n",
    "}  "
   ]
  },
  {
   "cell_type": "code",
   "execution_count": 11,
   "metadata": {},
   "outputs": [
    {
     "name": "stdout",
     "output_type": "stream",
     "text": [
      "Число 1 эталон 28073 , В хексе 0x6da9, В разбивке [109, 169] \n",
      "Число 2 эталон 4602 , В хексе 0x11fa, В разбивке [17, 250] \n"
     ]
    }
   ],
   "source": [
    "#Стартавые пареметры\n",
    "X_str = \"6DA9\"\n",
    "Y_str = \"11FA\"\n",
    "\n",
    "X_work = [0x6D,0xA9]\n",
    "X_et = 0x6DA9\n",
    "print(f\"Число 1 эталон {X_et} , В хексе {hex(X_et)}, В разбивке {X_work} \")\n",
    "\n",
    "Y_work = [0x11,0xFA]\n",
    "Y_et = 0x11FA\n",
    "print(f\"Число 2 эталон {Y_et} , В хексе {hex(Y_et)}, В разбивке {Y_work} \")\n"
   ]
  },
  {
   "cell_type": "code",
   "execution_count": null,
   "metadata": {},
   "outputs": [],
   "source": []
  }
 ],
 "metadata": {
  "kernelspec": {
   "display_name": "Python 3",
   "language": "python",
   "name": "python3"
  },
  "language_info": {
   "codemirror_mode": {
    "name": "ipython",
    "version": 3
   },
   "file_extension": ".py",
   "mimetype": "text/x-python",
   "name": "python",
   "nbconvert_exporter": "python",
   "pygments_lexer": "ipython3",
   "version": "3.7.4"
  }
 },
 "nbformat": 4,
 "nbformat_minor": 2
}
